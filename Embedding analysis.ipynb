{
 "cells": [
  {
   "cell_type": "code",
   "execution_count": 13,
   "metadata": {},
   "outputs": [],
   "source": [
    "import numpy as np\n",
    "import pandas as pd\n",
    "import ot\n",
    "import os.path\n",
    "import os\n",
    "from IPython.display import Image, display\n",
    "import matplotlib\n",
    "import matplotlib.pyplot as plt\n",
    "import math\n",
    "from functools import reduce, partial\n",
    "import operator\n",
    "from collections import Counter, defaultdict\n",
    "from scipy.sparse import coo_matrix, diags\n",
    "from scipy.sparse.linalg import norm\n",
    "from scipy.special import softmax\n",
    "from scipy.spatial.distance import pdist, squareform\n",
    "from ipywidgets import interact, interactive, fixed, interact_manual\n",
    "import ipywidgets as widgets\n",
    "import networkx as nx\n",
    "from tqdm.auto import tqdm\n",
    "\n",
    "%matplotlib inline\n",
    "\n",
    "CUR_WORK_DIR = os.path.join(os.path.join(os.getcwd(), 'jupyter'), 'tipe')\n",
    "POSTERS_DIRECTORY = os.path.join(CUR_WORK_DIR, 'posters')\n",
    "EMBEDDINGS_DIRECTORY = os.path.join(CUR_WORK_DIR, 'data')\n",
    "RATING_VALUES = {'favorite': 1, 'like': 1, 'dislike': 0, 'neutral': 0,\n",
    "                 'willsee': 0, 'wontsee': 0}"
   ]
  },
  {
   "cell_type": "code",
   "execution_count": 14,
   "metadata": {},
   "outputs": [],
   "source": [
    "class Embedding:\n",
    "    def __init__(self, npy_filename, posters_paths=None):\n",
    "        self.npy_filename = npy_filename\n",
    "        self.posters_paths = posters_paths or []\n",
    "        \n",
    "        self.npy = None\n",
    "        self.work_ids = []\n",
    "        self.read_work_ids_from_posters_paths()\n",
    "        \n",
    "    def open_npy(self):\n",
    "        self.npy = np.load(self.npy_filename)\n",
    "    \n",
    "    def read_posters_paths_from_filename(self, posters_filename):\n",
    "        self.posters_paths = []\n",
    "        with open(posters_filename, 'r') as f:\n",
    "            for line in f:\n",
    "                filename = os.path.basename(line.strip())\n",
    "                self.posters_paths.append(os.path.join(POSTERS_DIRECTORY, filename))\n",
    "        \n",
    "        self.read_work_ids_from_posters_paths()\n",
    "    \n",
    "    def read_work_ids_from_posters_paths(self):\n",
    "        for p in self.posters_paths:\n",
    "            work_id = os.path.basename(p)[:-len('.jpg')]\n",
    "            try:\n",
    "                self.work_ids.append(int(work_id))\n",
    "            except ValueError:\n",
    "                print('[!] Invalid poster data!')\n",
    "    \n",
    "    @property\n",
    "    def identifier(self):\n",
    "        return os.path.basename(self.npy_filename)[len('embeddings-'):-len('.npy')]\n",
    "    \n",
    "    def generate_collage(self, work_directory=None):\n",
    "        PER_ROW = 4\n",
    "        if work_directory is None:\n",
    "            work_directory = POSTERS_DIRECTORY\n",
    "        target_path = os.path.join(work_directory, 'montage-{}.png'.format(self.identifier))\n",
    "        if os.path.exists(target_path):\n",
    "            print('[!] Overwriting a montage')\n",
    "            os.remove(target_path)\n",
    "        os.system('montage -density 300 -tile {}x0 -geometry +5+50 -border 10 {} {}'\n",
    "                 .format(PER_ROW, ' '.join(self.posters_paths), target_path))\n",
    "    \n",
    "    def show_collage(self, work_directory=None):\n",
    "        if work_directory is None:\n",
    "            work_directory = POSTERS_DIRECTORY\n",
    "        \n",
    "        return Image(os.path.join(work_directory, 'montage-{}.png'.format(self.identifier)))\n",
    "    \n",
    "    def show_image(self, work_id, work_directory=None):\n",
    "        if work_directory is None:\n",
    "            work_directory = POSTERS_DIRECTORY\n",
    "        \n",
    "        return Image(os.path.join(work_directory, '{}.jpg'.format(work_id)))\n",
    "    \n",
    "    def show_images_grid(self):\n",
    "        \"\"\"\n",
    "            Relatively slow.\n",
    "        \"\"\"\n",
    "        files = []\n",
    "        try:\n",
    "            files = []\n",
    "            for poster_path in self.posters_paths:\n",
    "                files.append(open(poster_path, 'rb'))\n",
    "            \n",
    "            PER_ROW = 3\n",
    "            # FIXME: can we go smaller than 100 × 500 while preserving a decent visual overview?\n",
    "            _, axarr = plt.subplots(math.ceil(len(files)/PER_ROW), PER_ROW, figsize=(100, 500))\n",
    "            for index, file in enumerate(files):\n",
    "                a = plt.imread(file)\n",
    "                col = index % PER_ROW\n",
    "                row = index // PER_ROW\n",
    "                # FIXME: can we improve the speed?\n",
    "                axarr[row, col].imshow(a, aspect='equal', interpolation='none')\n",
    "        finally:\n",
    "            for file in files:\n",
    "                file.close()\n",
    "        \n",
    "        \n",
    "    \n",
    "    def __repr__(self):\n",
    "        if self.npy is not None:\n",
    "            return '<Embedding (opened): {} × {}>'.format(*self.npy.shape)\n",
    "        else:\n",
    "            return '<Embedding (closed)>'\n",
    "    \n",
    "    @classmethod\n",
    "    def from_filename(cls, embedding_filename, ignore_posters=False):\n",
    "        emb_basename = os.path.basename(embedding_filename)\n",
    "        poster_basename = 'paths-' + emb_basename[len('embeddings-'):-len('.npy')] + '.txt'\n",
    "        posters_filenames = os.path.join(os.path.dirname(embedding_filename), poster_basename)\n",
    "        \n",
    "        if not os.access(posters_filenames, os.R_OK) and not ignore_posters:\n",
    "            raise ValueError('Posters paths are not available!')\n",
    "        \n",
    "        embedding = Embedding(embedding_filename)\n",
    "        if not ignore_posters:\n",
    "            embedding.read_posters_paths_from_filename(posters_filenames)\n",
    "        \n",
    "        return embedding\n",
    "\n",
    "work_ids_images = {}\n",
    "        \n",
    "def generate_mapping(work_directory=None):\n",
    "    if work_directory is None:\n",
    "        work_directory = EMBEDDINGS_DIRECTORY\n",
    "    \n",
    "    mapping = []\n",
    "    files_list = os.listdir(work_directory)\n",
    "    \n",
    "    for filename in files_list:\n",
    "        if filename.startswith('embeddings-'):\n",
    "            try:\n",
    "                embedding = Embedding.from_filename(os.path.join(work_directory, filename))\n",
    "                for work_id in embedding.work_ids:\n",
    "                    work_ids_images[work_id] = partial(embedding.show_image, work_id)\n",
    "                mapping.append(embedding)\n",
    "                print('[+] {} has been loaded in the database'.format(filename))\n",
    "            except Exception as e:\n",
    "                print('[-] {} is a lonely embedding ({})'.format(filename, e))\n",
    "    \n",
    "    return mapping"
   ]
  },
  {
   "cell_type": "code",
   "execution_count": 15,
   "metadata": {},
   "outputs": [
    {
     "name": "stdout",
     "output_type": "stream",
     "text": [
      "[+] embeddings-2019-02-18T15-18-10.889384.npy has been loaded in the database\n",
      "[+] embeddings-2019-02-18T15-39-19.625160.npy has been loaded in the database\n",
      "[+] embeddings-2019-02-18T15-43-07.414268.npy has been loaded in the database\n",
      "[+] embeddings-2019-02-18T15-35-18.058961.npy has been loaded in the database\n",
      "[+] embeddings-2019-02-18T15-33-16.452208.npy has been loaded in the database\n",
      "[+] embeddings-2019-02-18T16-25-32.936366.npy has been loaded in the database\n",
      "[+] embeddings-2019-02-18T15-38-52.134559.npy has been loaded in the database\n",
      "[+] embeddings-2019-02-18T15-44-46.244278.npy has been loaded in the database\n",
      "[+] embeddings-2019-02-18T15-39-51.198164.npy has been loaded in the database\n",
      "[+] embeddings-2019-02-18T15-25-14.291466.npy has been loaded in the database\n",
      "[+] embeddings-2019-02-18T15-44-41.847111.npy has been loaded in the database\n",
      "[+] embeddings-2019-02-18T15-34-48.390426.npy has been loaded in the database\n",
      "[+] embeddings-2019-02-18T15-17-40.644516.npy has been loaded in the database\n",
      "[+] embeddings-2019-02-18T16-30-34.350053.npy has been loaded in the database\n",
      "[+] embeddings-2019-02-18T15-12-49.415931.npy has been loaded in the database\n",
      "[+] embeddings-2019-02-18T16-21-42.850679.npy has been loaded in the database\n",
      "[+] embeddings-2019-02-18T15-30-23.814963.npy has been loaded in the database\n",
      "[+] embeddings-2019-02-18T15-27-20.224267.npy has been loaded in the database\n",
      "[+] embeddings-2019-02-18T15-02-54.950036.npy has been loaded in the database\n",
      "[+] embeddings-2019-02-18T16-19-25.530681.npy has been loaded in the database\n",
      "[+] embeddings-2019-02-18T16-22-28.359121.npy has been loaded in the database\n",
      "[+] embeddings-2019-02-18T15-21-20.118823.npy has been loaded in the database\n",
      "[+] embeddings-2019-02-18T16-08-11.349672.npy has been loaded in the database\n",
      "[+] embeddings-2019-02-18T15-01-14.300933.npy has been loaded in the database\n",
      "[+] embeddings-2019-02-18T15-26-14.021090.npy has been loaded in the database\n",
      "[+] embeddings-2019-02-18T15-37-18.833618.npy has been loaded in the database\n",
      "[+] embeddings-2019-02-18T14-59-40.581544.npy has been loaded in the database\n",
      "[+] embeddings-2019-02-18T15-04-16.676903.npy has been loaded in the database\n",
      "[+] embeddings-2019-02-18T15-18-11.900064.npy has been loaded in the database\n",
      "[+] embeddings-2019-02-18T15-31-45.835256.npy has been loaded in the database\n",
      "[+] embeddings-2019-02-18T15-42-30.160917.npy has been loaded in the database\n",
      "[+] embeddings-2019-02-18T16-03-39.573835.npy has been loaded in the database\n",
      "[+] embeddings-2019-02-18T15-01-18.913638.npy has been loaded in the database\n",
      "[+] embeddings-2019-02-18T15-42-20.914809.npy has been loaded in the database\n",
      "[+] embeddings-2019-02-18T16-17-09.315571.npy has been loaded in the database\n",
      "[+] embeddings-2019-02-18T16-14-53.098229.npy has been loaded in the database\n",
      "[+] embeddings-2019-02-18T15-22-58.077308.npy has been loaded in the database\n",
      "[+] embeddings-2019-02-18T15-40-22.800231.npy has been loaded in the database\n",
      "[+] embeddings-2019-02-18T16-31-19.969326.npy has been loaded in the database\n",
      "[+] embeddings-2019-02-18T16-41-16.244661.npy has been loaded in the database\n",
      "[+] embeddings-2019-02-18T15-36-18.648665.npy has been loaded in the database\n",
      "[+] embeddings-2019-02-18T16-42-45.508436.npy has been loaded in the database\n",
      "[+] embeddings-2019-02-18T15-43-35.320779.npy has been loaded in the database\n",
      "[+] embeddings-2019-02-18T14-57-35.988258.npy has been loaded in the database\n",
      "[+] embeddings-2019-02-18T15-54-43.306568.npy has been loaded in the database\n",
      "[+] embeddings-2019-02-18T15-02-01.364011.npy has been loaded in the database\n",
      "[+] embeddings-2019-02-18T16-32-50.489007.npy has been loaded in the database\n",
      "[+] embeddings-2019-02-18T15-24-43.402070.npy has been loaded in the database\n",
      "[+] embeddings-2019-02-18T15-46-18.590481.npy has been loaded in the database\n",
      "[+] embeddings-2019-02-18T15-19-43.695535.npy has been loaded in the database\n",
      "[+] embeddings-2019-02-18T16-02-54.376396.npy has been loaded in the database\n",
      "[+] embeddings-2019-02-18T15-25-13.583681.npy has been loaded in the database\n",
      "[+] embeddings-2019-02-18T16-05-56.790632.npy has been loaded in the database\n",
      "[+] embeddings-2019-02-18T16-17-53.901894.npy has been loaded in the database\n",
      "[+] embeddings-2019-02-18T15-37-19.182270.npy has been loaded in the database\n",
      "[+] embeddings-2019-02-18T15-44-37.402316.npy has been loaded in the database\n",
      "[+] embeddings-2019-02-18T15-30-45.500956.npy has been loaded in the database\n",
      "[+] embeddings-2019-02-18T14-58-55.884642.npy has been loaded in the database\n",
      "[+] embeddings-2019-02-18T15-30-15.716040.npy has been loaded in the database\n",
      "[+] embeddings-2019-02-18T15-43-55.334611.npy has been loaded in the database\n",
      "[+] embeddings-2019-02-18T15-20-29.806286.npy has been loaded in the database\n",
      "[+] embeddings-2019-02-18T15-16-40.090961.npy has been loaded in the database\n",
      "[+] embeddings-2019-02-18T15-08-05.624810.npy has been loaded in the database\n",
      "[+] embeddings-2019-02-18T16-27-04.188456.npy has been loaded in the database\n",
      "[+] embeddings-2019-02-18T15-11-37.085099.npy has been loaded in the database\n",
      "[+] embeddings-2019-02-18T15-49-22.978232.npy has been loaded in the database\n",
      "[+] embeddings-2019-02-18T16-10-33.300296.npy has been loaded in the database\n",
      "[+] embeddings-2019-02-18T15-52-27.647206.npy has been loaded in the database\n",
      "[+] embeddings-2019-02-18T15-01-50.865983.npy has been loaded in the database\n",
      "[+] embeddings-2019-02-18T15-07-19.137812.npy has been loaded in the database\n",
      "[+] embeddings-2019-02-18T15-13-08.311941.npy has been loaded in the database\n",
      "[+] embeddings-2019-02-18T14-58-39.656005.npy has been loaded in the database\n",
      "[+] embeddings-2019-02-18T15-17-10.588972.npy has been loaded in the database\n",
      "[+] embeddings-2019-02-18T15-34-17.348667.npy has been loaded in the database\n",
      "[+] embeddings-2019-02-18T15-05-34.448819.npy has been loaded in the database\n",
      "[+] embeddings-2019-02-18T15-12-38.255904.npy has been loaded in the database\n",
      "[+] embeddings-2019-02-18T16-16-24.207084.npy has been loaded in the database\n",
      "[+] embeddings-2019-02-18T15-14-39.276329.npy has been loaded in the database\n",
      "[+] embeddings-2019-02-18T16-43-30.947921.npy has been loaded in the database\n",
      "[+] embeddings-2019-02-18T16-04-25.881991.npy has been loaded in the database\n",
      "[+] embeddings-2019-02-18T14-56-38.534404.npy has been loaded in the database\n",
      "[+] embeddings-2019-02-18T15-10-07.201704.npy has been loaded in the database\n",
      "[+] embeddings-2019-02-18T15-02-23.047280.npy has been loaded in the database\n",
      "[+] embeddings-2019-02-18T15-11-07.138068.npy has been loaded in the database\n",
      "[+] embeddings-2019-02-18T16-36-42.334144.npy has been loaded in the database\n",
      "[+] embeddings-2019-02-18T15-03-26.654933.npy has been loaded in the database\n",
      "[+] embeddings-2019-02-18T15-23-12.750129.npy has been loaded in the database\n",
      "[+] embeddings-2019-02-18T15-50-55.281234.npy has been loaded in the database\n",
      "[+] embeddings-2019-02-18T16-42-00.981215.npy has been loaded in the database\n",
      "[+] embeddings-2019-02-18T16-06-41.588109.npy has been loaded in the database\n",
      "[+] embeddings-2019-02-18T15-11-17.699214.npy has been loaded in the database\n",
      "[+] embeddings-2019-02-18T15-05-49.352093.npy has been loaded in the database\n",
      "[+] embeddings-2019-02-18T15-22-12.707332.npy has been loaded in the database\n",
      "[+] embeddings-2019-02-18T15-59-03.148973.npy has been loaded in the database\n",
      "[+] embeddings-2019-02-18T16-40-31.289213.npy has been loaded in the database\n",
      "[+] embeddings-2019-02-18T15-08-51.238007.npy has been loaded in the database\n",
      "[+] embeddings-2019-02-18T15-32-46.300228.npy has been loaded in the database\n",
      "[+] embeddings-2019-02-18T15-31-09.470465.npy has been loaded in the database\n",
      "[+] embeddings-2019-02-18T14-56-32.179468.npy has been loaded in the database\n",
      "[+] embeddings-2019-02-18T15-05-03.137851.npy has been loaded in the database\n",
      "[+] embeddings-2019-02-18T15-41-00.211455.npy has been loaded in the database\n",
      "[+] embeddings-2019-02-18T16-38-15.880818.npy has been loaded in the database\n",
      "[+] embeddings-2019-02-18T15-09-35.850329.npy has been loaded in the database\n",
      "[+] embeddings-2019-02-18T15-38-19.290818.npy has been loaded in the database\n",
      "[+] embeddings-2019-02-18T15-20-41.770269.npy has been loaded in the database\n",
      "[+] embeddings-2019-02-18T16-35-57.018704.npy has been loaded in the database\n",
      "[+] embeddings-2019-02-18T15-04-31.137024.npy has been loaded in the database\n",
      "[+] embeddings-2019-02-18T15-24-13.097082.npy has been loaded in the database\n",
      "[+] embeddings-2019-02-18T15-19-10.658044.npy has been loaded in the database\n",
      "[+] embeddings-2019-02-18T16-12-04.757903.npy has been loaded in the database\n",
      "[+] embeddings-2019-02-18T15-18-57.929465.npy has been loaded in the database\n",
      "[+] embeddings-2019-02-18T15-24-32.585847.npy has been loaded in the database\n",
      "[+] embeddings-2019-02-18T16-01-22.838044.npy has been loaded in the database\n",
      "[+] embeddings-2019-02-18T16-15-38.831032.npy has been loaded in the database\n",
      "[+] embeddings-2019-02-18T16-23-14.419936.npy has been loaded in the database\n",
      "[+] embeddings-2019-02-18T15-31-55.196248.npy has been loaded in the database\n",
      "[+] embeddings-2019-02-18T16-02-08.587485.npy has been loaded in the database\n",
      "[+] embeddings-2019-02-18T15-55-28.457337.npy has been loaded in the database\n",
      "[+] embeddings-2019-02-18T15-28-51.556024.npy has been loaded in the database\n",
      "[+] embeddings-2019-02-18T15-03-30.543709.npy has been loaded in the database\n",
      "[+] embeddings-2019-02-18T16-08-56.933208.npy has been loaded in the database\n",
      "[+] embeddings-2019-02-18T16-34-20.340699.npy has been loaded in the database\n",
      "[+] embeddings-2019-02-18T16-33-35.329525.npy has been loaded in the database\n",
      "[+] embeddings-2019-02-18T16-23-59.607787.npy has been loaded in the database\n",
      "[+] embeddings-2019-02-18T15-05-01.820772.npy has been loaded in the database\n",
      "[+] embeddings-2019-02-18T15-13-38.560461.npy has been loaded in the database\n",
      "[+] embeddings-2019-02-18T15-15-39.398079.npy has been loaded in the database\n",
      "[+] embeddings-2019-02-18T15-34-57.708898.npy has been loaded in the database\n",
      "[+] embeddings-2019-02-18T15-15-53.092900.npy has been loaded in the database\n",
      "[+] embeddings-2019-02-18T15-00-46.377645.npy has been loaded in the database\n",
      "[+] embeddings-2019-02-18T15-26-33.143307.npy has been loaded in the database\n",
      "[+] embeddings-2019-02-18T15-20-11.688314.npy has been loaded in the database\n",
      "[+] embeddings-2019-02-18T14-58-07.304709.npy has been loaded in the database\n",
      "[+] embeddings-2019-02-18T15-15-09.249160.npy has been loaded in the database\n",
      "[+] embeddings-2019-02-18T16-39-00.795557.npy has been loaded in the database\n",
      "[+] embeddings-2019-02-18T15-23-42.821615.npy has been loaded in the database\n",
      "[+] embeddings-2019-02-18T16-27-52.450904.npy has been loaded in the database\n",
      "[+] embeddings-2019-02-18T15-22-42.692964.npy has been loaded in the database\n",
      "[+] embeddings-2019-02-18T15-21-12.271421.npy has been loaded in the database\n",
      "[+] embeddings-2019-02-18T16-26-18.476985.npy has been loaded in the database\n",
      "[+] embeddings-2019-02-18T15-53-13.343105.npy has been loaded in the database\n",
      "[+] embeddings-2019-02-18T15-03-59.402977.npy has been loaded in the database\n",
      "[+] embeddings-2019-02-18T16-14-07.347029.npy has been loaded in the database\n",
      "[+] embeddings-2019-02-18T15-16-40.046987.npy has been loaded in the database\n",
      "[+] embeddings-2019-02-18T15-18-40.921292.npy has been loaded in the database\n",
      "[+] embeddings-2019-02-18T15-05-47.704485.npy has been loaded in the database\n",
      "[+] embeddings-2019-02-18T16-18-39.315844.npy has been loaded in the database\n",
      "[+] embeddings-2019-02-18T15-28-44.832121.npy has been loaded in the database\n",
      "[+] embeddings-2019-02-18T15-59-51.203338.npy has been loaded in the database\n",
      "[+] embeddings-2019-02-18T15-19-40.892557.npy has been loaded in the database\n",
      "[+] embeddings-2019-02-18T15-28-06.058584.npy has been loaded in the database\n",
      "[+] embeddings-2019-02-18T15-32-16.356577.npy has been loaded in the database\n",
      "[+] embeddings-2019-02-18T16-28-26.578917.npy has been loaded in the database\n",
      "[+] embeddings-2019-02-18T15-38-49.524505.npy has been loaded in the database\n",
      "[+] embeddings-2019-02-18T15-13-36.664864.npy has been loaded in the database\n",
      "[+] embeddings-2019-02-18T15-38-05.884001.npy has been loaded in the database\n",
      "[+] embeddings-2019-02-18T15-25-43.873965.npy has been loaded in the database\n",
      "[+] embeddings-2019-02-18T15-12-08.058771.npy has been loaded in the database\n",
      "[+] embeddings-2019-02-18T14-59-43.069678.npy has been loaded in the database\n",
      "[+] embeddings-2019-02-18T15-40-24.706527.npy has been loaded in the database\n",
      "[+] embeddings-2019-02-18T15-15-07.852398.npy has been loaded in the database\n",
      "[+] embeddings-2019-02-18T15-41-25.889317.npy has been loaded in the database\n",
      "[+] embeddings-2019-02-18T15-23-47.445767.npy has been loaded in the database\n",
      "[+] embeddings-2019-02-18T16-44-00.261366.npy has been loaded in the database\n",
      "[+] embeddings-2019-02-18T15-29-45.637622.npy has been loaded in the database\n",
      "[+] embeddings-2019-02-18T16-35-08.899430.npy has been loaded in the database\n",
      "[+] embeddings-2019-02-18T16-20-10.732748.npy has been loaded in the database\n",
      "[+] embeddings-2019-02-18T15-36-31.089403.npy has been loaded in the database\n",
      "[+] embeddings-2019-02-18T16-24-46.620074.npy has been loaded in the database\n",
      "[+] embeddings-2019-02-18T16-07-26.785230.npy has been loaded in the database\n",
      "[+] embeddings-2019-02-18T15-44-05.914593.npy has been loaded in the database\n",
      "[+] embeddings-2019-02-18T15-47-52.297742.npy has been loaded in the database\n",
      "[+] embeddings-2019-02-18T15-12-04.186354.npy has been loaded in the database\n",
      "[+] embeddings-2019-02-18T15-35-43.098453.npy has been loaded in the database\n",
      "[+] embeddings-2019-02-18T16-39-45.799691.npy has been loaded in the database\n",
      "[+] embeddings-2019-02-18T16-00-37.360449.npy has been loaded in the database\n",
      "[+] embeddings-2019-02-18T14-57-25.000804.npy has been loaded in the database\n",
      "[+] embeddings-2019-02-18T15-26-43.790945.npy has been loaded in the database\n",
      "[+] embeddings-2019-02-18T15-43-02.764164.npy has been loaded in the database\n",
      "[+] embeddings-2019-02-18T14-59-11.048898.npy has been loaded in the database\n",
      "[+] embeddings-2019-02-18T15-17-26.295702.npy has been loaded in the database\n",
      "[+] embeddings-2019-02-18T15-35-48.067432.npy has been loaded in the database\n",
      "[+] embeddings-2019-02-18T15-14-09.075572.npy has been loaded in the database\n",
      "[+] embeddings-2019-02-18T16-11-19.508936.npy has been loaded in the database\n",
      "[+] embeddings-2019-02-18T15-56-56.909890.npy has been loaded in the database\n",
      "[+] embeddings-2019-02-18T16-29-47.884745.npy has been loaded in the database\n",
      "[+] embeddings-2019-02-18T16-12-48.151932.npy has been loaded in the database\n",
      "[+] embeddings-2019-02-18T14-58-10.077581.npy has been loaded in the database\n",
      "[+] embeddings-2019-02-18T15-14-21.977065.npy has been loaded in the database\n",
      "[+] embeddings-2019-02-18T15-34-11.311482.npy has been loaded in the database\n",
      "[+] embeddings-2019-02-18T15-48-38.124435.npy has been loaded in the database\n",
      "[+] embeddings-2019-02-18T14-54-30.242888.npy has been loaded in the database\n",
      "[+] embeddings-2019-02-18T14-55-52.856259.npy has been loaded in the database\n",
      "[+] embeddings-2019-02-18T15-41-58.001122.npy has been loaded in the database\n",
      "[+] embeddings-2019-02-18T15-28-14.686021.npy has been loaded in the database\n",
      "[+] embeddings-2019-02-18T16-32-05.082181.npy has been loaded in the database\n",
      "[+] embeddings-2019-02-18T15-45-32.157609.npy has been loaded in the database\n",
      "[+] embeddings-2019-02-18T15-00-14.388910.npy has been loaded in the database\n",
      "[+] embeddings-2019-02-18T15-27-43.860403.npy has been loaded in the database\n",
      "[+] embeddings-2019-02-18T15-09-57.439053.npy has been loaded in the database\n",
      "[+] embeddings-2019-02-18T15-51-41.824462.npy has been loaded in the database\n",
      "[+] embeddings-2019-02-18T15-47-06.318171.npy has been loaded in the database\n",
      "[+] embeddings-2019-02-18T14-56-00.947240.npy has been loaded in the database\n",
      "[+] embeddings-2019-02-18T15-10-36.840948.npy has been loaded in the database\n",
      "[+] embeddings-2019-02-18T15-31-15.370436.npy has been loaded in the database\n",
      "[+] embeddings-2019-02-18T15-58-17.334093.npy has been loaded in the database\n",
      "[+] embeddings-2019-02-18T15-06-33.206256.npy has been loaded in the database\n",
      "[+] embeddings-2019-02-18T15-02-46.318452.npy has been loaded in the database\n",
      "[+] embeddings-2019-02-18T15-37-49.273766.npy has been loaded in the database\n",
      "[+] embeddings-2019-02-18T15-56-13.172835.npy has been loaded in the database\n",
      "[+] embeddings-2019-02-18T14-57-04.050383.npy has been loaded in the database\n",
      "[+] embeddings-2019-02-18T15-39-38.194605.npy has been loaded in the database\n",
      "[+] embeddings-2019-02-18T15-29-15.070559.npy has been loaded in the database\n",
      "[+] embeddings-2019-02-18T15-22-09.016911.npy has been loaded in the database\n",
      "[+] embeddings-2019-02-18T15-32-40.869138.npy has been loaded in the database\n",
      "[+] embeddings-2019-02-18T15-21-42.077453.npy has been loaded in the database\n",
      "[+] embeddings-2019-02-18T15-40-54.065116.npy has been loaded in the database\n",
      "[+] embeddings-2019-02-18T15-16-09.646131.npy has been loaded in the database\n",
      "[+] embeddings-2019-02-18T15-33-25.762438.npy has been loaded in the database\n",
      "[+] embeddings-2019-02-18T16-05-10.434780.npy has been loaded in the database\n",
      "[+] embeddings-2019-02-18T15-27-13.838601.npy has been loaded in the database\n",
      "[+] embeddings-2019-02-18T15-00-26.042690.npy has been loaded in the database\n",
      "[+] embeddings-2019-02-18T15-33-46.366581.npy has been loaded in the database\n",
      "[+] embeddings-2019-02-18T15-36-49.018827.npy has been loaded in the database\n",
      "[+] embeddings-2019-02-18T15-53-57.653742.npy has been loaded in the database\n",
      "[+] embeddings-2019-02-18T16-37-30.702975.npy has been loaded in the database\n",
      "[+] embeddings-2019-02-18T16-09-45.395125.npy has been loaded in the database\n",
      "[+] embeddings-2019-02-18T15-29-37.941206.npy has been loaded in the database\n",
      "[+] embeddings-2019-02-18T15-50-09.086194.npy has been loaded in the database\n",
      "[+] embeddings-2019-02-18T16-20-57.157742.npy has been loaded in the database\n"
     ]
    }
   ],
   "source": [
    "embeddings = generate_mapping()"
   ]
  },
  {
   "cell_type": "code",
   "execution_count": 16,
   "metadata": {},
   "outputs": [],
   "source": [
    "for embedding in embeddings:\n",
    "    embedding.open_npy()"
   ]
  },
  {
   "cell_type": "code",
   "execution_count": 10,
   "metadata": {},
   "outputs": [
    {
     "data": {
      "text/plain": [
       "5927"
      ]
     },
     "execution_count": 10,
     "metadata": {},
     "output_type": "execute_result"
    }
   ],
   "source": [
    "# Check for potential mismatches\n",
    "from itertools import chain\n",
    "A = set(sorted(list(chain(*[embedding.work_ids for embedding in embeddings]))))\n",
    "B = set(range(1, max(A) + 1))\n",
    "len(A ^ B)"
   ]
  },
  {
   "cell_type": "code",
   "execution_count": 17,
   "metadata": {},
   "outputs": [],
   "source": [
    "def load_ratings(path):\n",
    "    df = pd.read_csv(path)\n",
    "    triplets = np.array(df[['user', 'item', 'rating']], dtype=np.object)\n",
    "    vectorized_convert = np.vectorize(RATING_VALUES.get, otypes=[np.float64])\n",
    "    X = triplets[:,0:2].astype(np.int32)\n",
    "    y = vectorized_convert(triplets[:,2])\n",
    "    nb_users = int(max(triplets[:,0]) + 1)\n",
    "    nb_works = int(max(triplets[:,1]) + 1)\n",
    "    \n",
    "    return df, X, y, nb_users, nb_works\n",
    "\n",
    "\n",
    "_, X, y, nb_users, nb_works = load_ratings(os.path.join(EMBEDDINGS_DIRECTORY, 'ratings.csv'))"
   ]
  },
  {
   "cell_type": "code",
   "execution_count": 18,
   "metadata": {},
   "outputs": [],
   "source": [
    "def merge_and_order_embeddings(embeddings):\n",
    "    flattened = []\n",
    "    \n",
    "    for embedding in embeddings:\n",
    "        for index, work_id in enumerate(embedding.work_ids):\n",
    "            flattened.append((embedding.npy[index].reshape((1, 512)), work_id))\n",
    "    \n",
    "    ordered_embeddings = sorted(flattened,\n",
    "                               key=lambda item: item[1])\n",
    "    \n",
    "    C = np.concatenate([x for x, _ in ordered_embeddings], axis=0)\n",
    "    work_ids = [y for _, y in ordered_embeddings]\n",
    "    \n",
    "    return C, work_ids\n",
    "\n",
    "C, work_ids = merge_and_order_embeddings(embeddings)"
   ]
  },
  {
   "cell_type": "code",
   "execution_count": 19,
   "metadata": {},
   "outputs": [
    {
     "data": {
      "application/vnd.jupyter.widget-view+json": {
       "model_id": "79f08fc6df68460891a89b8f5adb5ad7",
       "version_major": 2,
       "version_minor": 0
      },
      "text/plain": [
       "HBox(children=(interactive(children=(IntSlider(value=1, description='left', max=64557, min=1), Output()), _dom…"
      ]
     },
     "metadata": {},
     "output_type": "display_data"
    }
   ],
   "source": [
    "left_slider = widgets.IntSlider(min=1, max=nb_works)\n",
    "right_slider = widgets.IntSlider(min=1, max=nb_works)\n",
    "distance = widgets.Label(value='Distance: {}')\n",
    "\n",
    "def show_static_img(left):\n",
    "    if left in work_ids_images:\n",
    "        display(work_ids_images[left]())\n",
    "    else:\n",
    "        display('[!] Work ID not in DB')\n",
    "\n",
    "\n",
    "def distance_(left, right):\n",
    "    try:\n",
    "        X = C[left] - C[right]\n",
    "        return X @ X.T\n",
    "    except:\n",
    "        return 'N/A'\n",
    "        \n",
    "def handle_slider_change(_):\n",
    "    distance.value = 'Distance: {}'.format(distance_(left_slider.value, right_slider.value))\n",
    "    \n",
    "w1 = interactive(show_static_img, left=left_slider)\n",
    "w2 = interactive(show_static_img, left=right_slider)\n",
    "\n",
    "handle_slider_change(None)\n",
    "left_slider.observe(handle_slider_change, names='value')\n",
    "right_slider.observe(handle_slider_change, names='value')\n",
    "\n",
    "display(widgets.HBox([w1, w2, distance]))"
   ]
  },
  {
   "cell_type": "code",
   "execution_count": 20,
   "metadata": {},
   "outputs": [],
   "source": [
    "# Adapted from mangaki.zero.knn module\n",
    "\n",
    "def normalize(X):\n",
    "    norms = norm(X, axis=1)\n",
    "    norms[norms == 0] = 1.\n",
    "    return diags(1 / norms) @ X\n",
    "\n",
    "\n",
    "# Linear kernel\n",
    "def cosine_similarity(X, Y=None):\n",
    "    X = normalize(X)\n",
    "    if Y is None:\n",
    "        Y = X\n",
    "    else:\n",
    "        Y = normalize(Y)\n",
    "    return (X @ Y.T).toarray()\n",
    "\n",
    "\n",
    "def mean_of_nonzero(X, cols):\n",
    "    X_csc = X.tocsc()\n",
    "    sums = X_csc[:, cols].sum(axis=0).A1\n",
    "    counts = np.diff(X_csc.indptr)[cols]\n",
    "    counts[counts == 0] = 1.\n",
    "    return sums / counts\n",
    "\n",
    "class KNN:\n",
    "    def __init__(self, nb_users, nb_works, nb_neighbors=20, rated_by_neighbors_at_least=3,\n",
    "                 missing_is_mean=True, weighted_neighbors=False):\n",
    "        self.nb_users = nb_users\n",
    "        self.nb_works = nb_works\n",
    "        self.M = None\n",
    "        self.nb_neighbors = nb_neighbors\n",
    "        self.rated_by_neighbors_at_least = rated_by_neighbors_at_least\n",
    "        self.missing_is_mean = missing_is_mean\n",
    "        self.weighted_neighbors = weighted_neighbors\n",
    "        self.closest = {}\n",
    "        self.rated_works = {}\n",
    "        self.mean_score = {}\n",
    "        self.ratings = {}\n",
    "        self.sum_ratings = {}\n",
    "        self.nb_ratings = {}\n",
    "        \n",
    "    def get_neighbors(self, user_ids=None):\n",
    "        neighbors = []\n",
    "        if user_ids is None:\n",
    "            score = cosine_similarity(self.M)  # All pairwise similarities\n",
    "            user_ids = range(self.nb_users)\n",
    "        else:\n",
    "            score = cosine_similarity(self.M[user_ids], self.M)\n",
    "        for i, user_id in enumerate(user_ids):\n",
    "            if self.nb_neighbors < self.nb_users - 1:\n",
    "                # Do not select the user itself while looking at neighbors\n",
    "                score[i][user_id] = float('-inf')\n",
    "                # Put top NB_NEIGHBORS user indices at the end of array,\n",
    "                # no matter their order; then, slice them!\n",
    "                neighbor_ids = (\n",
    "                    score[i]\n",
    "                    .argpartition(-self.nb_neighbors - 1)\n",
    "                    [-self.nb_neighbors - 1:-1]\n",
    "                )\n",
    "            else:\n",
    "                neighbor_ids = list(range(self.nb_users))\n",
    "                neighbor_ids.remove(user_id)\n",
    "            neighbors.append(neighbor_ids)\n",
    "            self.closest[user_id] = {}\n",
    "            for neighbor_id in neighbor_ids:\n",
    "                self.closest[user_id][neighbor_id] = score[i, neighbor_id]\n",
    "        return neighbors\n",
    "    \n",
    "    def nx_graph_neighbors(self, user_ids=None):\n",
    "        neighbors = self.get_neighbors(user_ids)\n",
    "        G = nx.Graph()\n",
    "        \n",
    "        for node, neigh in enumerate(neighbors):\n",
    "            target = user_ids[node] if user_ids else node\n",
    "            G.add_node(target)\n",
    "            for sibling in neigh:\n",
    "                G.add_edge(target, sibling)\n",
    "        \n",
    "        return G\n",
    "\n",
    "    def fit(self, X, y, whole_dataset=False):\n",
    "        self.ratings = defaultdict(dict)\n",
    "        self.sum_ratings = Counter()\n",
    "        self.nb_ratings = Counter()\n",
    "        users, works = zip(*list(X))\n",
    "        # Might take some time, but coo is efficient for creating matrices\n",
    "        self.M = coo_matrix((y, (users, works)),\n",
    "                            shape=(self.nb_users, self.nb_works)).astype(\n",
    "                                np.float64)\n",
    "        # knn.M should be CSR for faster arithmetic operations\n",
    "        self.M = self.M.tocsr()\n",
    "        for (user_id, work_id), rating in zip(X, y):\n",
    "            self.ratings[user_id][work_id] = rating\n",
    "            self.nb_ratings[work_id] += 1\n",
    "            self.sum_ratings[work_id] += rating\n",
    "        for work_id in self.nb_ratings:\n",
    "            self.mean_score[work_id] = (self.sum_ratings[work_id] /\n",
    "                                        self.nb_ratings[work_id])\n",
    "\n",
    "    def fit_single_user(self, rated_works, ratings):\n",
    "        nb_rated = len(rated_works)\n",
    "        nb_neighbors = min(self.nb_neighbors, self.nb_users)\n",
    "        user_ratings = coo_matrix((ratings, ([0.] * nb_rated, rated_works)),\n",
    "                                  shape=(1, self.nb_works)).tocsr()\n",
    "        score = cosine_similarity(user_ratings, self.M).reshape(-1)\n",
    "        return np.argpartition(score, -nb_neighbors)[-nb_neighbors:]\n",
    "\n",
    "    def predict(self, X):\n",
    "        # Compute only relevant neighbors\n",
    "        self.get_neighbors(list(set(X[:, 0])))\n",
    "        y = []\n",
    "        for my_user_id, work_id in X:\n",
    "            weight = 0\n",
    "            predicted_rating = 0\n",
    "            nb_neighbors_that_rated_it = 0\n",
    "            for user_id in self.closest[my_user_id]:\n",
    "                their_sim_score = self.closest[my_user_id][user_id]\n",
    "                if self.missing_is_mean:\n",
    "                    if work_id in self.ratings[user_id]:\n",
    "                        their_rating = self.ratings[user_id][work_id]\n",
    "                        nb_neighbors_that_rated_it += 1\n",
    "                    else:\n",
    "                        # In case KNN was not trained on this work\n",
    "                        their_rating = self.mean_score.get(work_id, 0)\n",
    "                else:\n",
    "                    their_rating = self.ratings[user_id].get(work_id)\n",
    "                    if their_rating is None:\n",
    "                        continue  # Skip\n",
    "                if self.weighted_neighbors:\n",
    "                    predicted_rating += their_sim_score * their_rating\n",
    "                    weight += their_sim_score\n",
    "                else:\n",
    "                    predicted_rating += their_rating\n",
    "            if nb_neighbors_that_rated_it < self.rated_by_neighbors_at_least:\n",
    "                predicted_rating = 0\n",
    "            if weight > 0:\n",
    "                predicted_rating /= weight\n",
    "            y.append(1 if predicted_rating >= nb_neighbors_that_rated_it//2 else 0)\n",
    "        return np.array(y)\n",
    "\n",
    "    def predict_single_user(self, work_ids, neighbor_ids):\n",
    "        return mean_of_nonzero(self.M[neighbor_ids], work_ids)\n",
    "\n",
    "    def __str__(self):\n",
    "        return '[KNN] NB_NEIGHBORS = %d' % self.nb_neighbors"
   ]
  },
  {
   "cell_type": "code",
   "execution_count": 22,
   "metadata": {},
   "outputs": [],
   "source": [
    "knn = KNN(nb_users, nb_works)\n",
    "knn.fit(X, y)"
   ]
  },
  {
   "cell_type": "code",
   "execution_count": 23,
   "metadata": {},
   "outputs": [
    {
     "data": {
      "image/png": "[encoded data removed]",
      "text/plain": [
       "<Figure size 432x288 with 1 Axes>"
      ]
     },
     "metadata": {},
     "output_type": "display_data"
    }
   ],
   "source": [
    "MINIMAL_ITEM_RATED = 200\n",
    "interesting_user = np.random.choice(np.where(np.count_nonzero(knn.M.toarray(), axis=1) >= MINIMAL_ITEM_RATED)[0])\n",
    "# me = np.random.randint(1, nb_users)\n",
    "me = interesting_user\n",
    "G = knn.nx_graph_neighbors([me])\n",
    "pos = nx.spring_layout(G)\n",
    "nx.draw(G, pos, with_labels=True, node_size=1000, node_color='red')"
   ]
  },
  {
   "cell_type": "code",
   "execution_count": 24,
   "metadata": {},
   "outputs": [
    {
     "name": "stdout",
     "output_type": "stream",
     "text": [
      "[+] Looking at 1638 with 299 works\n"
     ]
    }
   ],
   "source": [
    "def sim(u, u_):\n",
    "    return ((normalize(knn.M[u]) @ normalize(knn.M[u_]).T)).toarray()[0][0]\n",
    "\n",
    "print('[+] Looking at {} with {} works'.format(me, np.count_nonzero(knn.M[me].toarray())))\n",
    "similarities = np.array([sim(me, k) for k in range(nb_users)])"
   ]
  },
  {
   "cell_type": "code",
   "execution_count": 25,
   "metadata": {},
   "outputs": [
    {
     "name": "stdout",
     "output_type": "stream",
     "text": [
      "[+] Relevant users for Wasserstein metric: 101 with the best at: 15 disjoint works\n"
     ]
    }
   ],
   "source": [
    "disjoint_support_ids, = np.where(similarities == 0)\n",
    "relevant_targets = sorted([(k, knn.M[k], np.count_nonzero(knn.M[k].toarray())) for k in disjoint_support_ids if np.count_nonzero(knn.M[k].toarray()) > 0],\n",
    "                          key=lambda t: t[2], reverse=True)\n",
    "\n",
    "print('[+] Relevant users for Wasserstein metric: {} with the best at: {} disjoint works'.format(len(relevant_targets), relevant_targets[0][2]))"
   ]
  },
  {
   "cell_type": "code",
   "execution_count": 26,
   "metadata": {},
   "outputs": [
    {
     "name": "stdout",
     "output_type": "stream",
     "text": [
      "[+] Comparing (298,) vs (14,) works with disjoint support\n"
     ]
    }
   ],
   "source": [
    "target_id, target_works, _ = relevant_targets[0]\n",
    "\n",
    "def extract_relevant_works(user_vector, remove_inexistant_poster=True):\n",
    "    _, work_ids = user_vector.nonzero()\n",
    "    if remove_inexistant_poster:\n",
    "        work_ids = work_ids[np.array([item in work_ids_images for item in work_ids])]\n",
    "    return work_ids\n",
    "\n",
    "me_works = extract_relevant_works(knn.M[me])\n",
    "target_works = extract_relevant_works(target_works)\n",
    "\n",
    "print('[+] Comparing {} vs {} works with disjoint support'.format(me_works.shape, target_works.shape))"
   ]
  },
  {
   "cell_type": "code",
   "execution_count": 27,
   "metadata": {},
   "outputs": [
    {
     "data": {
      "application/vnd.jupyter.widget-view+json": {
       "model_id": "78123b3e996847f6a57b316e43a366ce",
       "version_major": 2,
       "version_minor": 0
      },
      "text/plain": [
       "HBox(children=(interactive(children=(IntSlider(value=0, description='index', max=297), Output()), _dom_classes…"
      ]
     },
     "metadata": {},
     "output_type": "display_data"
    }
   ],
   "source": [
    "def show_img(works, index):\n",
    "    if works[index] in work_ids_images:\n",
    "        display(work_ids_images[works[index]]())\n",
    "    else:\n",
    "        print('[!] Database mismatch!')\n",
    "\n",
    "def slideshow_target(target_works):\n",
    "    return interactive(show_img, works=fixed(target_works), index=widgets.IntSlider(min=0, max=len(target_works) - 1))\n",
    "\n",
    "\n",
    "w1 = slideshow_target(me_works)\n",
    "w2 = slideshow_target(target_works)\n",
    "\n",
    "display(widgets.HBox([w1, w2]));"
   ]
  },
  {
   "cell_type": "code",
   "execution_count": 28,
   "metadata": {},
   "outputs": [
    {
     "name": "stdout",
     "output_type": "stream",
     "text": [
      "(297,) (14,)\n"
     ]
    }
   ],
   "source": [
    "filtered_r_works = me_works[me_works < C.shape[0]]\n",
    "filtered_t_works = target_works[target_works < C.shape[0]]\n",
    "\n",
    "print(filtered_r_works.shape, filtered_t_works.shape)"
   ]
  },
  {
   "cell_type": "code",
   "execution_count": 29,
   "metadata": {},
   "outputs": [
    {
     "data": {
      "text/plain": [
       "(array([1., 1., 1., 1., 1., 1., 1., 1., 1., 1., 1., 0., 1., 1., 1., 1., 1.,\n",
       "        1., 0., 1., 1., 0., 1., 1., 1., 1., 1., 1., 1., 0., 1., 1., 1., 1.,\n",
       "        1., 1., 1., 1., 1., 1., 1., 1., 1., 0., 1., 1., 1., 1., 1., 1., 1.,\n",
       "        1., 1., 0., 1., 1., 1., 1., 1., 1., 1., 1., 1., 1., 0., 1., 1., 1.,\n",
       "        0., 1., 1., 1., 1., 1., 1., 1., 1., 1., 1., 1., 1., 1., 1., 1., 1.,\n",
       "        1., 1., 1., 1., 1., 1., 1., 1., 1., 1., 1., 1., 1., 1., 1., 0., 0.,\n",
       "        0., 1., 1., 1., 1., 1., 1., 1., 1., 1., 1., 1., 1., 1., 1., 1., 1.,\n",
       "        1., 1., 1., 1., 1., 1., 1., 1., 1., 1., 0., 1., 1., 1., 1., 1., 1.,\n",
       "        1., 1., 1., 0., 1., 1., 1., 1., 1., 0., 1., 1., 1., 1., 1., 1., 1.,\n",
       "        1., 1., 1., 1., 1., 1., 1., 1., 1., 1., 1., 1., 1., 1., 1., 1., 1.,\n",
       "        1., 1., 1., 1., 1., 1., 1., 1., 1., 1., 1., 1., 1., 1., 1., 1., 1.,\n",
       "        1., 1., 1., 1., 1., 1., 1., 1., 1., 1., 1., 1., 1., 1., 1., 1., 1.,\n",
       "        1., 1., 1., 1., 1., 1., 1., 1., 1., 1., 1., 1., 1., 1., 1., 1., 1.,\n",
       "        1., 1., 1., 1., 1., 1., 1., 1., 1., 1., 1., 1., 1., 1., 1., 1., 1.,\n",
       "        1., 1., 1., 1., 1., 1., 1., 1., 1., 1., 1., 1., 1., 1., 1., 1., 1.,\n",
       "        1., 1., 1., 1., 1., 1., 1., 1., 1., 1., 1., 1., 1., 1., 1., 1., 1.,\n",
       "        1., 1., 1., 1., 1., 1., 1., 1., 1., 1., 1., 1., 1., 1., 1., 1., 1.,\n",
       "        1., 1., 1., 1., 1., 1., 1., 1., 1., 1., 1., 1., 1., 1., 1., 1., 1.,\n",
       "        1., 1., 1., 1., 1.]),\n",
       " array([0., 0., 0., 0., 0., 0., 0., 0., 0., 0., 0., 1., 0., 0., 0., 0., 0.,\n",
       "        0., 1., 0., 0., 1., 0., 0., 0., 0., 0., 0., 0., 1., 0., 0., 0., 0.,\n",
       "        0., 0., 0., 0., 0., 0., 0., 0., 0., 1., 0., 0., 0., 0., 0., 0., 0.,\n",
       "        0., 0., 1., 0., 0., 0., 0., 0., 0., 0., 0., 0., 0., 1., 0., 0., 0.,\n",
       "        1., 0., 0., 0., 0., 0., 0., 0., 0., 0., 0., 0., 0., 0., 0., 0., 0.,\n",
       "        0., 0., 0., 0., 0., 0., 0., 0., 0., 0., 0., 0., 0., 0., 0., 1., 1.,\n",
       "        1., 0., 0., 0., 0., 0., 0., 0., 0., 0., 0., 0., 0., 0., 0., 0., 0.,\n",
       "        0., 0., 0., 0., 0., 0., 0., 0., 0., 0., 1., 0., 0., 0., 0., 0., 0.,\n",
       "        0., 0., 0., 1., 0., 0., 0., 0., 0., 1., 0., 0., 0., 0., 0., 0., 0.,\n",
       "        0., 0., 0., 0., 0., 0., 0., 0., 0., 0., 0., 0., 0., 0., 0., 0., 0.,\n",
       "        0., 0., 0., 0., 0., 0., 0., 0., 0., 0., 0., 0., 0., 0., 0., 0., 0.,\n",
       "        0., 0., 0., 0., 0., 0., 0., 0., 0., 0., 0., 0., 0., 0., 0., 0., 0.,\n",
       "        0., 0., 0., 0., 0., 0., 0., 0., 0., 0., 0., 0., 0., 0., 0., 0., 0.,\n",
       "        0., 0., 0., 0., 0., 0., 0., 0., 0., 0., 0., 0., 0., 0., 0., 0., 0.,\n",
       "        0., 0., 0., 0., 0., 0., 0., 0., 0., 0., 0., 0., 0., 0., 0., 0., 0.,\n",
       "        0., 0., 0., 0., 0., 0., 0., 0., 0., 0., 0., 0., 0., 0., 0., 0., 0.,\n",
       "        0., 0., 0., 0., 0., 0., 0., 0., 0., 0., 0., 0., 0., 0., 0., 0., 0.,\n",
       "        0., 0., 0., 0., 0., 0., 0., 0., 0., 0., 0., 0., 0., 0., 0., 0., 0.,\n",
       "        0., 0., 0., 0., 0.]))"
      ]
     },
     "execution_count": 29,
     "metadata": {},
     "output_type": "execute_result"
    }
   ],
   "source": [
    "N_WORKS = 2000\n",
    "sampled_works = np.union1d(np.random.choice(filtered_r_works, N_WORKS), np.random.choice(filtered_t_works, N_WORKS))\n",
    "\n",
    "def user_distribution(user_id, work_support):\n",
    "    return knn.M[user_id][0,work_support].toarray().reshape(-1)\n",
    "\n",
    "user_distribution(me, sampled_works), user_distribution(target_id, sampled_works)"
   ]
  },
  {
   "cell_type": "code",
   "execution_count": 30,
   "metadata": {},
   "outputs": [
    {
     "name": "stdout",
     "output_type": "stream",
     "text": [
      "(311, 311)\n"
     ]
    }
   ],
   "source": [
    "def compute_pairwise_distances(embedding_matrix):\n",
    "    return pdist(embedding_matrix, 'sqeuclidean')\n",
    "\n",
    "M = squareform(compute_pairwise_distances(C[sampled_works]))\n",
    "print(M.shape)"
   ]
  },
  {
   "cell_type": "code",
   "execution_count": 41,
   "metadata": {},
   "outputs": [
    {
     "name": "stdout",
     "output_type": "stream",
     "text": [
      "[0.00330961 0.00330961 0.00330961 0.00330961 0.00330961 0.00330961\n",
      " 0.00330961 0.00330961 0.00330961 0.00330961 0.00330961 0.00121754\n",
      " 0.00330961 0.00330961 0.00330961 0.00330961 0.00330961 0.00330961\n",
      " 0.00121754 0.00330961 0.00330961 0.00121754 0.00330961 0.00330961\n",
      " 0.00330961 0.00330961 0.00330961 0.00330961 0.00330961 0.00121754\n",
      " 0.00330961 0.00330961 0.00330961 0.00330961 0.00330961 0.00330961\n",
      " 0.00330961 0.00330961 0.00330961 0.00330961 0.00330961 0.00330961\n",
      " 0.00330961 0.00121754 0.00330961 0.00330961 0.00330961 0.00330961\n",
      " 0.00330961 0.00330961 0.00330961 0.00330961 0.00330961 0.00121754\n",
      " 0.00330961 0.00330961 0.00330961 0.00330961 0.00330961 0.00330961\n",
      " 0.00330961 0.00330961 0.00330961 0.00330961 0.00121754 0.00330961\n",
      " 0.00330961 0.00330961 0.00121754 0.00330961 0.00330961 0.00330961\n",
      " 0.00330961 0.00330961 0.00330961 0.00330961 0.00330961 0.00330961\n",
      " 0.00330961 0.00330961 0.00330961 0.00330961 0.00330961 0.00330961\n",
      " 0.00330961 0.00330961 0.00330961 0.00330961 0.00330961 0.00330961\n",
      " 0.00330961 0.00330961 0.00330961 0.00330961 0.00330961 0.00330961\n",
      " 0.00330961 0.00330961 0.00330961 0.00330961 0.00121754 0.00121754\n",
      " 0.00121754 0.00330961 0.00330961 0.00330961 0.00330961 0.00330961\n",
      " 0.00330961 0.00330961 0.00330961 0.00330961 0.00330961 0.00330961\n",
      " 0.00330961 0.00330961 0.00330961 0.00330961 0.00330961 0.00330961\n",
      " 0.00330961 0.00330961 0.00330961 0.00330961 0.00330961 0.00330961\n",
      " 0.00330961 0.00330961 0.00330961 0.00121754 0.00330961 0.00330961\n",
      " 0.00330961 0.00330961 0.00330961 0.00330961 0.00330961 0.00330961\n",
      " 0.00330961 0.00121754 0.00330961 0.00330961 0.00330961 0.00330961\n",
      " 0.00330961 0.00121754 0.00330961 0.00330961 0.00330961 0.00330961\n",
      " 0.00330961 0.00330961 0.00330961 0.00330961 0.00330961 0.00330961\n",
      " 0.00330961 0.00330961 0.00330961 0.00330961 0.00330961 0.00330961\n",
      " 0.00330961 0.00330961 0.00330961 0.00330961 0.00330961 0.00330961\n",
      " 0.00330961 0.00330961 0.00330961 0.00330961 0.00330961 0.00330961\n",
      " 0.00330961 0.00330961 0.00330961 0.00330961 0.00330961 0.00330961\n",
      " 0.00330961 0.00330961 0.00330961 0.00330961 0.00330961 0.00330961\n",
      " 0.00330961 0.00330961 0.00330961 0.00330961 0.00330961 0.00330961\n",
      " 0.00330961 0.00330961 0.00330961 0.00330961 0.00330961 0.00330961\n",
      " 0.00330961 0.00330961 0.00330961 0.00330961 0.00330961 0.00330961\n",
      " 0.00330961 0.00330961 0.00330961 0.00330961 0.00330961 0.00330961\n",
      " 0.00330961 0.00330961 0.00330961 0.00330961 0.00330961 0.00330961\n",
      " 0.00330961 0.00330961 0.00330961 0.00330961 0.00330961 0.00330961\n",
      " 0.00330961 0.00330961 0.00330961 0.00330961 0.00330961 0.00330961\n",
      " 0.00330961 0.00330961 0.00330961 0.00330961 0.00330961 0.00330961\n",
      " 0.00330961 0.00330961 0.00330961 0.00330961 0.00330961 0.00330961\n",
      " 0.00330961 0.00330961 0.00330961 0.00330961 0.00330961 0.00330961\n",
      " 0.00330961 0.00330961 0.00330961 0.00330961 0.00330961 0.00330961\n",
      " 0.00330961 0.00330961 0.00330961 0.00330961 0.00330961 0.00330961\n",
      " 0.00330961 0.00330961 0.00330961 0.00330961 0.00330961 0.00330961\n",
      " 0.00330961 0.00330961 0.00330961 0.00330961 0.00330961 0.00330961\n",
      " 0.00330961 0.00330961 0.00330961 0.00330961 0.00330961 0.00330961\n",
      " 0.00330961 0.00330961 0.00330961 0.00330961 0.00330961 0.00330961\n",
      " 0.00330961 0.00330961 0.00330961 0.00330961 0.00330961 0.00330961\n",
      " 0.00330961 0.00330961 0.00330961 0.00330961 0.00330961 0.00330961\n",
      " 0.00330961 0.00330961 0.00330961 0.00330961 0.00330961 0.00330961\n",
      " 0.00330961 0.00330961 0.00330961 0.00330961 0.00330961 0.00330961\n",
      " 0.00330961 0.00330961 0.00330961 0.00330961 0.00330961] [0.0074273  0.00273235 0.00273235 0.0074273  0.00273235 0.00273235\n",
      " 0.00273235 0.00273235 0.00273235 0.00273235 0.0074273  0.0074273\n",
      " 0.0074273  0.00273235 0.0074273  0.00273235 0.00273235 0.00273235\n",
      " 0.0074273  0.00273235 0.00273235 0.00273235 0.00273235 0.00273235\n",
      " 0.0074273  0.00273235 0.00273235 0.00273235 0.00273235 0.00273235\n",
      " 0.00273235 0.00273235 0.00273235 0.0074273  0.00273235 0.00273235\n",
      " 0.00273235 0.00273235 0.00273235 0.0074273  0.00273235 0.00273235\n",
      " 0.00273235 0.00273235 0.00273235 0.00273235 0.0074273  0.0074273\n",
      " 0.0074273  0.00273235 0.00273235 0.0074273  0.00273235 0.0074273\n",
      " 0.00273235 0.0074273  0.0074273  0.0074273  0.0074273  0.0074273\n",
      " 0.00273235 0.0074273  0.00273235 0.00273235 0.0074273  0.00273235\n",
      " 0.00273235 0.00273235 0.00273235 0.0074273  0.00273235 0.00273235\n",
      " 0.00273235 0.00273235 0.00273235 0.00273235 0.00273235 0.00273235\n",
      " 0.00273235 0.00273235 0.00273235 0.00273235 0.00273235 0.00273235\n",
      " 0.00273235 0.00273235 0.00273235 0.00273235 0.00273235 0.00273235\n",
      " 0.00273235 0.00273235 0.00273235 0.00273235 0.00273235 0.00273235\n",
      " 0.0074273  0.00273235 0.00273235 0.00273235 0.00273235 0.00273235\n",
      " 0.00273235 0.00273235 0.00273235 0.00273235 0.00273235 0.00273235\n",
      " 0.00273235 0.00273235 0.00273235 0.00273235 0.00273235 0.00273235\n",
      " 0.00273235 0.00273235 0.00273235 0.00273235 0.00273235 0.0074273\n",
      " 0.00273235 0.00273235 0.00273235 0.00273235 0.00273235 0.00273235\n",
      " 0.00273235 0.00273235 0.00273235 0.00273235 0.00273235 0.00273235\n",
      " 0.00273235 0.00273235 0.00273235 0.00273235 0.00273235 0.00273235\n",
      " 0.00273235 0.0074273  0.00273235 0.00273235 0.00273235 0.00273235\n",
      " 0.00273235 0.00273235 0.00273235 0.00273235 0.00273235 0.00273235\n",
      " 0.00273235 0.00273235 0.00273235 0.00273235 0.00273235 0.00273235\n",
      " 0.00273235 0.00273235 0.00273235 0.00273235 0.00273235 0.00273235\n",
      " 0.00273235 0.00273235 0.00273235 0.00273235 0.00273235 0.00273235\n",
      " 0.00273235 0.00273235 0.00273235 0.00273235 0.00273235 0.00273235\n",
      " 0.00273235 0.00273235 0.00273235 0.00273235 0.00273235 0.00273235\n",
      " 0.00273235 0.00273235 0.00273235 0.00273235 0.00273235 0.00273235\n",
      " 0.00273235 0.00273235 0.00273235 0.00273235 0.00273235 0.00273235\n",
      " 0.00273235 0.00273235 0.00273235 0.00273235 0.00273235 0.00273235\n",
      " 0.0074273  0.00273235 0.00273235 0.00273235 0.00273235 0.00273235\n",
      " 0.00273235 0.00273235 0.00273235 0.00273235 0.00273235 0.00273235\n",
      " 0.00273235 0.00273235 0.00273235 0.00273235 0.00273235 0.00273235\n",
      " 0.00273235 0.00273235 0.00273235 0.00273235 0.00273235 0.00273235\n",
      " 0.00273235 0.00273235 0.0074273  0.0074273  0.00273235 0.00273235\n",
      " 0.00273235 0.00273235 0.00273235 0.00273235 0.00273235 0.00273235\n",
      " 0.00273235 0.00273235 0.00273235 0.00273235 0.00273235 0.00273235\n",
      " 0.00273235 0.00273235 0.00273235 0.00273235 0.00273235 0.0074273\n",
      " 0.00273235 0.00273235 0.00273235 0.00273235 0.00273235 0.00273235\n",
      " 0.00273235 0.00273235 0.00273235 0.00273235 0.00273235 0.00273235\n",
      " 0.00273235 0.00273235 0.00273235 0.00273235 0.00273235 0.00273235\n",
      " 0.00273235 0.00273235 0.00273235 0.00273235 0.00273235 0.00273235\n",
      " 0.00273235 0.00273235 0.00273235 0.00273235 0.00273235 0.00273235\n",
      " 0.00273235 0.00273235 0.00273235 0.00273235 0.00273235 0.00273235\n",
      " 0.00273235 0.00273235 0.00273235 0.00273235 0.00273235 0.00273235\n",
      " 0.00273235 0.00273235 0.00273235 0.00273235 0.00273235 0.00273235\n",
      " 0.00273235 0.00273235 0.00273235 0.00273235 0.00273235 0.0074273\n",
      " 0.00273235 0.00273235 0.00273235 0.0074273  0.00273235 0.00273235\n",
      " 0.00273235 0.00273235 0.00273235 0.00273235 0.00273235]\n"
     ]
    }
   ],
   "source": [
    "def normalize_column_vector(x):\n",
    "    return softmax(x)\n",
    "\n",
    "def compute_user_distribution(user_id):\n",
    "    return np.asarray(normalize_column_vector(knn.M[user_id, sampled_works].todense())).reshape(-1)\n",
    "\n",
    "Me = compute_user_distribution(me)\n",
    "JJ = compute_user_distribution(1)\n",
    "\n",
    "def compute_emd(user1, user2, M):\n",
    "    u = compute_user_distribution(user1)\n",
    "    u_ = compute_user_distribution(user2)\n",
    "    \n",
    "    return ot.emd(u, u_, M)\n",
    "\n",
    "def compute_wasserstein(user1, user2, M, method='emd'):\n",
    "    if method == 'emd':\n",
    "        u = compute_user_distribution(user1)\n",
    "        u_ = compute_user_distribution(user2)\n",
    "        \n",
    "        return ot.emd2(u, u_, M)\n",
    "    else:\n",
    "        u = compute_user_distribution(user1)\n",
    "        u_ = compute_user_distribution(user2)\n",
    "        \n",
    "        return ot.sinkhorn_epsilon_scaling2(u, u_, M, 1)\n",
    "    \n",
    "    \n",
    "\n",
    "def compute_sinkhorn(user1, user2, reg=1):\n",
    "    u = compute_user_distribution(user1)\n",
    "    u_ = compute_user_distribution(user2)\n",
    "    \n",
    "    return ot.bregman.sinkhorn_epsilon_scaling(u, u_, M, reg)\n",
    "\n",
    "print(Me, JJ)"
   ]
  },
  {
   "cell_type": "code",
   "execution_count": 42,
   "metadata": {},
   "outputs": [
    {
     "data": {
      "text/plain": [
       "array([[0.        , 0.64934218, 0.594835  , ..., 0.68184436, 0.68399086,\n",
       "        0.69449795],\n",
       "       [0.64934218, 0.        , 0.5019909 , ..., 0.62965945, 0.55979065,\n",
       "        0.50183771],\n",
       "       [0.594835  , 0.5019909 , 0.        , ..., 0.57135497, 0.51707613,\n",
       "        0.43433093],\n",
       "       ...,\n",
       "       [0.68184436, 0.62965945, 0.57135497, ..., 0.        , 0.49414729,\n",
       "        0.57449725],\n",
       "       [0.68399086, 0.55979065, 0.51707613, ..., 0.49414729, 0.        ,\n",
       "        0.59596286],\n",
       "       [0.69449795, 0.50183771, 0.43433093, ..., 0.57449725, 0.59596286,\n",
       "        0.        ]])"
      ]
     },
     "execution_count": 42,
     "metadata": {},
     "output_type": "execute_result"
    }
   ],
   "source": [
    "M_normalized = ot.utils.cost_normalization(M, 'max')\n",
    "M_normalized"
   ]
  },
  {
   "cell_type": "code",
   "execution_count": 50,
   "metadata": {},
   "outputs": [
    {
     "name": "stdout",
     "output_type": "stream",
     "text": [
      "[[0.00298458 0.         0.         ... 0.         0.         0.        ]\n",
      " [0.         0.00298458 0.         ... 0.         0.         0.        ]\n",
      " [0.         0.         0.00298458 ... 0.         0.         0.        ]\n",
      " ...\n",
      " [0.         0.         0.         ... 0.00298458 0.         0.        ]\n",
      " [0.         0.         0.         ... 0.         0.00298458 0.        ]\n",
      " [0.         0.         0.         ... 0.         0.         0.00298458]] [[0.00330961 0.         0.         ... 0.         0.         0.        ]\n",
      " [0.         0.00273235 0.         ... 0.         0.         0.        ]\n",
      " [0.         0.         0.00273235 ... 0.         0.         0.        ]\n",
      " ...\n",
      " [0.         0.         0.         ... 0.00273235 0.         0.        ]\n",
      " [0.         0.         0.         ... 0.         0.00273235 0.        ]\n",
      " [0.         0.         0.         ... 0.         0.         0.00273235]]\n"
     ]
    },
    {
     "data": {
      "image/png": "[encoded data removed]",
      "text/plain": [
       "<Figure size 432x288 with 3 Axes>"
      ]
     },
     "metadata": {
      "needs_background": "light"
     },
     "output_type": "display_data"
    }
   ],
   "source": [
    "target = compute_user_distribution(target_id)\n",
    "\n",
    "gamma_emd1 = compute_emd(me, target_id, M)\n",
    "gamma_emd2 = compute_emd(me, 1, M)\n",
    "import ot.plot\n",
    "\n",
    "print(gamma_emd1, gamma_emd2)\n",
    "ot.plot.plot1D_mat(Me, target, gamma_emd1)"
   ]
  },
  {
   "cell_type": "code",
   "execution_count": 44,
   "metadata": {},
   "outputs": [
    {
     "data": {
      "image/png": "[encoded data removed]",
      "text/plain": [
       "<Figure size 432x288 with 3 Axes>"
      ]
     },
     "metadata": {
      "needs_background": "light"
     },
     "output_type": "display_data"
    }
   ],
   "source": [
    "ot.plot.plot1D_mat(Me, JJ, gamma_emd2)"
   ]
  },
  {
   "cell_type": "code",
   "execution_count": 45,
   "metadata": {},
   "outputs": [
    {
     "data": {
      "image/png": "[encoded data removed]",
      "text/plain": [
       "<Figure size 432x288 with 3 Axes>"
      ]
     },
     "metadata": {
      "needs_background": "light"
     },
     "output_type": "display_data"
    }
   ],
   "source": [
    "gamma_emd3 = compute_emd(me, me, M_normalized)\n",
    "ot.plot.plot1D_mat(Me, Me, gamma_emd3)"
   ]
  },
  {
   "cell_type": "code",
   "execution_count": 54,
   "metadata": {},
   "outputs": [
    {
     "data": {
      "text/plain": [
       "0.06355773406533914"
      ]
     },
     "execution_count": 54,
     "metadata": {},
     "output_type": "execute_result"
    }
   ],
   "source": [
    "gamma_emd1_normalized = ot.emd2(JJ, target, M_normalized)\n",
    "gamma_emd1_normalized"
   ]
  },
  {
   "cell_type": "code",
   "execution_count": 55,
   "metadata": {},
   "outputs": [
    {
     "name": "stdout",
     "output_type": "stream",
     "text": [
      "[0, 1, 2, 3, 4, 5, 6]\n"
     ]
    }
   ],
   "source": [
    "import ipyparallel as ipp\n",
    "rc = ipp.Client(profile='sinkhorn')\n",
    "print(rc.ids)\n",
    "dview = rc[:]"
   ]
  },
  {
   "cell_type": "code",
   "execution_count": 56,
   "metadata": {},
   "outputs": [],
   "source": [
    "def get_users_computed(task):\n",
    "    return int(sum([len([x for x in stdout.split('\\n') if x]) for stdout in task.stdout]))"
   ]
  },
  {
   "cell_type": "code",
   "execution_count": 57,
   "metadata": {},
   "outputs": [],
   "source": [
    "def print_progress_bar(t, task):\n",
    "    with tqdm(total=t, unit=' Wasserstein distances') as pbar:\n",
    "        cur = get_users_computed(task)\n",
    "        pbar.update(cur)\n",
    "        while not task.ready():\n",
    "            delta = get_users_computed(task) - cur\n",
    "            pbar.update(delta)\n",
    "            cur = get_users_computed(task)\n",
    "            time.sleep(0.1)\n",
    "        pbar.update(t - cur)"
   ]
  },
  {
   "cell_type": "code",
   "execution_count": 65,
   "metadata": {},
   "outputs": [
    {
     "data": {
      "application/vnd.jupyter.widget-view+json": {
       "model_id": "7d72bc90d2b245f182cb749db2432592",
       "version_major": 2,
       "version_minor": 0
      },
      "text/plain": [
       "HBox(children=(IntProgress(value=0, max=9), HTML(value='')))"
      ]
     },
     "metadata": {},
     "output_type": "display_data"
    },
    {
     "name": "stdout",
     "output_type": "stream",
     "text": [
      "\n"
     ]
    }
   ],
   "source": [
    "import time\n",
    "\n",
    "SINKHORN_REG = 1\n",
    "\n",
    "user_distributions = np.asarray(list(map(compute_user_distribution, range(1, nb_users))))\n",
    "dview['user_distributions'] = user_distributions\n",
    "dview['M'] = M_normalized\n",
    "dview['SINKHORN_REG'] = SINKHORN_REG\n",
    "\n",
    "@ipp.require('time')\n",
    "@ipp.require('ot')\n",
    "def compute_multiple_wasserstein(source):\n",
    "    try:\n",
    "        start = time.time()\n",
    "        if isinstance(source, list):\n",
    "            raise ValueError('source must be a user ID')\n",
    "\n",
    "        src = user_distributions[source]\n",
    "        start = time.time()\n",
    "        \n",
    "        pairwise = ot.sinkhorn2(src, user_distributions.T, M, SINKHORN_REG)\n",
    "\n",
    "        elapsed = time.time() - start\n",
    "        print('[+] d_W({}, ⋅) has been computed in {:03f} secs.'.format(source, elapsed))\n",
    "        return pairwise\n",
    "    except Exception as e:\n",
    "        return e\n",
    "\n",
    "target_set = range(1, 10)\n",
    "d_emds = dview.map_async(compute_multiple_wasserstein, target_set)\n",
    "print_progress_bar(len(target_set), d_emds)"
   ]
  },
  {
   "cell_type": "code",
   "execution_count": 66,
   "metadata": {},
   "outputs": [],
   "source": [
    "sk_distances = np.vstack(list(d_emds))"
   ]
  },
  {
   "cell_type": "code",
   "execution_count": 69,
   "metadata": {},
   "outputs": [
    {
     "data": {
      "text/plain": [
       "array([[0.64778365, 0.64772349, 0.64731134, ..., 0.6474209 , 0.6474209 ,\n",
       "        0.64870035],\n",
       "       [0.64675055, 0.64731134, 0.64581507, ..., 0.64659088, 0.64659088,\n",
       "        0.64787447],\n",
       "       [0.64891421, 0.64935326, 0.64842276, ..., 0.64898846, 0.64898846,\n",
       "        0.64994409],\n",
       "       ...,\n",
       "       [0.64735396, 0.64752386, 0.64671294, ..., 0.64663941, 0.64663941,\n",
       "        0.64806135],\n",
       "       [0.64700395, 0.64712418, 0.64641102, ..., 0.64642372, 0.64642372,\n",
       "        0.64774215],\n",
       "       [0.64745271, 0.64785083, 0.64693398, ..., 0.64707313, 0.64707313,\n",
       "        0.6483836 ]])"
      ]
     },
     "execution_count": 69,
     "metadata": {},
     "output_type": "execute_result"
    }
   ],
   "source": [
    "sk_distances"
   ]
  },
  {
   "cell_type": "code",
   "execution_count": 70,
   "metadata": {},
   "outputs": [
    {
     "data": {
      "application/vnd.jupyter.widget-view+json": {
       "model_id": "d8f68944d1cd49bf891e133be7c414fd",
       "version_major": 2,
       "version_minor": 0
      },
      "text/plain": [
       "interactive(children=(IntSlider(value=0, description='index', max=8), Output()), _dom_classes=('widget-interac…"
      ]
     },
     "metadata": {},
     "output_type": "display_data"
    }
   ],
   "source": [
    "def plot_wasserstein(index):\n",
    "    plt.figure(figsize=(20, 10))\n",
    "    plt.title('Distances de Wasserstein')\n",
    "    plt.ylabel('$d_W(x_{}, x_i)$'.format(index + 1))\n",
    "    plt.xlabel('$x_i$')\n",
    "    plt.scatter(np.arange(sk_distances.shape[1]), sk_distances[index])\n",
    "\n",
    "interact(plot_wasserstein, index=widgets.IntSlider(min=0, max=sk_distances.shape[0] - 1));"
   ]
  },
  {
   "cell_type": "code",
   "execution_count": 71,
   "metadata": {},
   "outputs": [],
   "source": [
    "targets = [user_distributions[1], user_distributions[2], user_distributions[3]]\n",
    "def sk2(user_vector):\n",
    "    return ot.sinkhorn2(user_vector, user_distributions.T, M, 1)\n",
    "d = ot.sinkhorn2(JJ, user_distributions.T, M_normalized, 1)"
   ]
  },
  {
   "cell_type": "code",
   "execution_count": 74,
   "metadata": {},
   "outputs": [
    {
     "data": {
      "text/plain": [
       "array([0.00316733, 0.00336002, 0.00328517, 0.00343441, 0.00293185,\n",
       "       0.00327981, 0.00308788, 0.00324183, 0.00323429, 0.00310247,\n",
       "       0.00314736, 0.00322185, 0.00317257, 0.00283925, 0.00305829,\n",
       "       0.00314311, 0.00307063, 0.00302782, 0.00318009, 0.00308845,\n",
       "       0.00328038, 0.00289093, 0.00330752, 0.00313724, 0.0032805 ,\n",
       "       0.00306105, 0.00319674, 0.00306265, 0.00315455, 0.00325774,\n",
       "       0.00325928, 0.0033023 , 0.00304005, 0.00333487, 0.00337646,\n",
       "       0.00316507, 0.00332366, 0.00302876, 0.00308901, 0.00309961,\n",
       "       0.00310911, 0.00329254, 0.00341348, 0.00290943, 0.00309273,\n",
       "       0.00332083, 0.00296061, 0.00314597, 0.00329555, 0.00294799,\n",
       "       0.00330638, 0.00308679, 0.00304112, 0.00313274, 0.00305918,\n",
       "       0.00332008, 0.00314949, 0.00316801, 0.0032646 , 0.00309751,\n",
       "       0.00329733, 0.00312836, 0.00321877, 0.00315775, 0.00305284,\n",
       "       0.0031884 , 0.00317083, 0.00302981, 0.00327515, 0.00324529,\n",
       "       0.00316909, 0.00324816, 0.00321335, 0.0033217 , 0.00333517,\n",
       "       0.00311283, 0.00328073, 0.00323753, 0.00325561, 0.00334319,\n",
       "       0.0034115 , 0.00324479, 0.00319585, 0.00337044, 0.00338997,\n",
       "       0.00314338, 0.00330068, 0.00308987, 0.00270698, 0.00313809,\n",
       "       0.00326821, 0.00330315, 0.00324104, 0.00335388, 0.00311546,\n",
       "       0.00341788, 0.00334037, 0.0032229 , 0.00337135, 0.00305723,\n",
       "       0.00335112, 0.0033735 , 0.00316892, 0.00328105, 0.00326924,\n",
       "       0.00295233, 0.00298808, 0.00341791, 0.00295594, 0.00310818,\n",
       "       0.00304355, 0.00330087, 0.00318677, 0.00330897, 0.00325517,\n",
       "       0.00327943, 0.00290623, 0.00290163, 0.0033509 , 0.0030253 ,\n",
       "       0.00329859, 0.0034357 , 0.00318192, 0.00332986, 0.00326056,\n",
       "       0.00315843, 0.00316034, 0.00330009, 0.00337677, 0.00303617,\n",
       "       0.00317503, 0.00335389, 0.00322539, 0.00330039, 0.0032684 ,\n",
       "       0.00322674, 0.00328698, 0.00330671, 0.00305902, 0.00345021,\n",
       "       0.00332283, 0.00336868, 0.00326851, 0.00348171, 0.00309865,\n",
       "       0.00292645, 0.0032811 , 0.00335853, 0.00345639, 0.00329691,\n",
       "       0.00329618, 0.00321214, 0.00330657, 0.00314329, 0.00325453,\n",
       "       0.00312586, 0.00336278, 0.00324259, 0.00319666, 0.00319895,\n",
       "       0.00332298, 0.00336664, 0.00339453, 0.00321779, 0.00324694,\n",
       "       0.00321637, 0.003202  , 0.00333665, 0.00304449, 0.00316805,\n",
       "       0.00338908, 0.00319889, 0.00329667, 0.00323125, 0.00328883,\n",
       "       0.00331196, 0.00328   , 0.00312962, 0.00308186, 0.00318925,\n",
       "       0.00316608, 0.00323331, 0.003183  , 0.0031005 , 0.0033046 ,\n",
       "       0.00319727, 0.00304714, 0.00330302, 0.00308204, 0.00328094,\n",
       "       0.00337473, 0.0032437 , 0.00321614, 0.00315994, 0.00330308,\n",
       "       0.00320416, 0.00331847, 0.00287772, 0.00325826, 0.00311695,\n",
       "       0.00337525, 0.00306242, 0.00326303, 0.00310648, 0.00328303,\n",
       "       0.00321817, 0.00328959, 0.00320881, 0.00291811, 0.00332004,\n",
       "       0.00346072, 0.00344102, 0.00334208, 0.0033218 , 0.00327186,\n",
       "       0.00331283, 0.00319256, 0.00348072, 0.00331828, 0.00343968,\n",
       "       0.00318548, 0.00324302, 0.00320486, 0.00328458, 0.00329048,\n",
       "       0.00331147, 0.00350003, 0.00324408, 0.00312903, 0.00322139,\n",
       "       0.00308887, 0.00283381, 0.00334487, 0.00332517, 0.00307488,\n",
       "       0.00340558, 0.00319556, 0.00323467, 0.00319844, 0.00324132,\n",
       "       0.00309208, 0.00337372, 0.00328899, 0.00329161, 0.00338533,\n",
       "       0.00321441, 0.0033476 , 0.00308163, 0.003199  , 0.00311052,\n",
       "       0.00281772, 0.00292788, 0.00324772, 0.0033572 , 0.00304323,\n",
       "       0.00328172, 0.00325446, 0.00324915, 0.00301123, 0.0033415 ,\n",
       "       0.00331352, 0.00331057, 0.00299502, 0.00330354, 0.00321307,\n",
       "       0.00311141, 0.00314385, 0.00340143, 0.00321322, 0.00315223,\n",
       "       0.00299142, 0.0031739 , 0.00324772, 0.00331042, 0.00305694,\n",
       "       0.00319562, 0.00303147, 0.00331256, 0.00317664, 0.00309696,\n",
       "       0.00336448, 0.00317992, 0.00322199, 0.00322308, 0.00325104,\n",
       "       0.0034641 , 0.00320883, 0.00300093, 0.00331353, 0.00323337,\n",
       "       0.00336021, 0.00327248, 0.00316899, 0.00321897, 0.0031504 ,\n",
       "       0.00319935, 0.00330065, 0.00299758, 0.00319971, 0.0031922 ,\n",
       "       0.00322983, 0.00328051, 0.00340933, 0.00322645, 0.00334618,\n",
       "       0.0034042 , 0.00330752, 0.00302829, 0.00330488, 0.00335237,\n",
       "       0.003234  ])"
      ]
     },
     "execution_count": 74,
     "metadata": {},
     "output_type": "execute_result"
    }
   ],
   "source": [
    "# Example of prediction\n",
    "NB_NEIGHBORS = 20\n",
    "neighbor_ids = d.argpartition(-NB_NEIGHBORS-1)[-NB_NEIGHBORS - 1:-1]\n",
    "A = user_distributions[neighbor_ids]\n",
    "Y = ot.bregman.barycenter(user_distributions.T, M_normalized, 1)\n",
    "Y"
   ]
  },
  {
   "cell_type": "code",
   "execution_count": 75,
   "metadata": {},
   "outputs": [
    {
     "data": {
      "text/plain": [
       "array([0., 1., 1., 1., 0., 1., 0., 1., 1., 0., 0., 1., 0., 0., 0., 0., 0.,\n",
       "       0., 0., 0., 1., 0., 1., 0., 1., 0., 0., 0., 0., 1., 1., 1., 0., 1.,\n",
       "       1., 0., 1., 0., 0., 0., 0., 1., 1., 0., 0., 1., 0., 0., 1., 0., 1.,\n",
       "       0., 0., 0., 0., 1., 0., 0., 1., 0., 1., 0., 1., 0., 0., 0., 0., 0.,\n",
       "       1., 1., 0., 1., 0., 1., 1., 0., 1., 1., 1., 1., 1., 1., 0., 1., 1.,\n",
       "       0., 1., 0., 0., 0., 1., 1., 1., 1., 0., 1., 1., 1., 1., 0., 1., 1.,\n",
       "       0., 1., 1., 0., 0., 1., 0., 0., 0., 1., 0., 1., 1., 1., 0., 0., 1.,\n",
       "       0., 1., 1., 0., 1., 1., 0., 0., 1., 1., 0., 0., 1., 1., 1., 1., 1.,\n",
       "       1., 1., 0., 1., 1., 1., 1., 1., 0., 0., 1., 1., 1., 1., 1., 0., 1.,\n",
       "       0., 1., 0., 1., 1., 0., 0., 1., 1., 1., 1., 1., 1., 0., 1., 0., 0.,\n",
       "       1., 0., 1., 1., 1., 1., 1., 0., 0., 0., 0., 1., 0., 0., 1., 0., 0.,\n",
       "       1., 0., 1., 1., 1., 1., 0., 1., 0., 1., 0., 1., 0., 1., 0., 1., 0.,\n",
       "       1., 1., 1., 0., 0., 1., 1., 1., 1., 1., 1., 1., 0., 1., 1., 1., 0.,\n",
       "       1., 0., 1., 1., 1., 1., 1., 0., 1., 0., 0., 1., 1., 0., 1., 0., 1.,\n",
       "       0., 1., 0., 1., 1., 1., 1., 0., 1., 0., 0., 0., 0., 0., 1., 1., 0.,\n",
       "       1., 1., 1., 0., 1., 1., 1., 0., 1., 0., 0., 0., 1., 0., 0., 0., 0.,\n",
       "       1., 1., 0., 0., 0., 1., 0., 0., 1., 0., 1., 1., 1., 1., 0., 0., 1.,\n",
       "       1., 1., 1., 0., 1., 0., 0., 1., 0., 0., 0., 1., 1., 1., 1., 1., 1.,\n",
       "       1., 0., 1., 1., 1.])"
      ]
     },
     "execution_count": 75,
     "metadata": {},
     "output_type": "execute_result"
    }
   ],
   "source": [
    "def do_prediction_from_distribution(Y):\n",
    "    m = Y.mean()\n",
    "    Z = Y.copy()\n",
    "    Z[Y < m] = RATING_VALUES['dislike'] # disliked\n",
    "    Z[Y >= m] = RATING_VALUES['like'] # liked\n",
    "    return Z\n",
    "\n",
    "do_prediction_from_distribution(Y)"
   ]
  },
  {
   "cell_type": "code",
   "execution_count": 371,
   "metadata": {},
   "outputs": [],
   "source": [
    "d2 = ot.sinkhorn2(Raito, user_distributions.T, M_normalized, 1)"
   ]
  },
  {
   "cell_type": "code",
   "execution_count": 409,
   "metadata": {},
   "outputs": [
    {
     "data": {
      "text/plain": [
       "(564,)"
      ]
     },
     "execution_count": 409,
     "metadata": {},
     "output_type": "execute_result"
    }
   ],
   "source": [
    "user_ids = np.unique(X[:,1:].reshape(-1))\n",
    "work_ids_indexer = lambda k: X[X[:,0] == k][:,1]\n",
    "work_ids_indexer(1)"
   ]
  },
  {
   "cell_type": "code",
   "execution_count": 76,
   "metadata": {},
   "outputs": [],
   "source": [
    "class WKNN:\n",
    "    def __init__(self, cost_matrix, view, nb_users, nb_works, pred_method='weighted', nb_neighbors=20, ent_reg=1):\n",
    "        self.nb_users = nb_users\n",
    "        self.nb_works = nb_works\n",
    "        self.nb_neighbors = nb_neighbors\n",
    "        self.closest = {}\n",
    "        self.rated_works = {}\n",
    "        self.mean_score = {}\n",
    "        self.ratings = {}\n",
    "        self.sum_ratings = {}\n",
    "        self.nb_ratings = {}\n",
    "        \n",
    "        self.pred_method = pred_method\n",
    "        self.M = None\n",
    "        self.cost = cost_matrix\n",
    "        self.ent_reg = ent_reg\n",
    "        self.user_distributions = None\n",
    "        \n",
    "        # PyParallel\n",
    "        self.view = view\n",
    "        \n",
    "    @staticmethod\n",
    "    def _parallel_wasserstein(source_distribution):\n",
    "        import time\n",
    "        import ot\n",
    "        start = time.time()\n",
    "        # Those exist when this function is called.\n",
    "        pairwise = ot.sinkhorn2(source_distribution, user_distributions.T, cost_matrix, entropic_reg)\n",
    "        print('[+] d_W computed in {:03f} secs'.format(time.time() - start))\n",
    "        return pairwise\n",
    "    \n",
    "    def parallel_prefit(self, X, y, limit_users=None):\n",
    "        users, works = zip(*list(X))\n",
    "        # Might take some time, but coo is efficient for creating matrices\n",
    "        self.M = coo_matrix((y, (users, works)),\n",
    "                            shape=(self.nb_users, self.nb_works)).astype(\n",
    "                                np.float64)\n",
    "        # knn.M should be CSR for faster arithmetic operations\n",
    "        self.M = self.M.tocsr()\n",
    "        self.user_distributions = np.asarray(list(map(self.user_distribution, range(1, self.nb_users))))\n",
    "        \n",
    "        self.view['user_distributions'] = self.user_distributions\n",
    "        self.view['cost_matrix'] = self.cost\n",
    "        self.view['entropic_reg'] = self.ent_reg\n",
    "        \n",
    "        target = list(self.user_distributions)\n",
    "        if limit_users is not None:\n",
    "            target = self.user_distributions[:limit_users]\n",
    "        \n",
    "        # Parallelize Wasserstein computations.\n",
    "        return self.view.map(self._parallel_wasserstein, target)\n",
    "    \n",
    "    def prepare_algorithm_and_serialize(self, X, y, target_filename):\n",
    "        ar = self.parallel_fit(X, y)\n",
    "        ar.wait_interactive()\n",
    "        self.wscore = np.vstack(ar.results)\n",
    "        with open(target_filename, 'w') as f:\n",
    "            np.save(f, self.wscore)\n",
    "    \n",
    "    def restore_serialized(self, filename):\n",
    "        with open(filename, 'rb') as f:\n",
    "            self.wscore = np.load(f)\n",
    "    \n",
    "    def user_distribution(self, user_id):\n",
    "        return np.asarray(softmax(self.M[user_id, sampled_works].todense())).reshape(-1)\n",
    "        \n",
    "    def get_neighbors(self, user_ids=None):\n",
    "        neighbors = []\n",
    "        if user_ids is None:\n",
    "            user_ids = range(self.nb_users)\n",
    "        \n",
    "        for i, user_id in enumerate(user_ids):\n",
    "            if self.nb_neighbors < self.nb_users - 1:\n",
    "                # Do not select the user itself while looking at neighbors\n",
    "                self.wscore[i][user_id] = float('-inf')\n",
    "                # Put top NB_NEIGHBORS user indices at the end of array,\n",
    "                # no matter their order; then, slice them!\n",
    "                neighbor_ids = (\n",
    "                    self.wscore[i]\n",
    "                    .argpartition(-self.nb_neighbors - 1)\n",
    "                    [-self.nb_neighbors - 1:-1]\n",
    "                )\n",
    "            else:\n",
    "                neighbor_ids = list(range(self.nb_users))\n",
    "                neighbor_ids.remove(user_id)\n",
    "            neighbors.append(neighbor_ids)\n",
    "            self.closest[user_id] = {}\n",
    "            for neighbor_id in neighbor_ids:\n",
    "                self.closest[user_id][neighbor_id] = self.wscore[i, neighbor_id]\n",
    "        return neighbors\n",
    "    \n",
    "    def nx_graph_neighbors(self, user_ids=None):\n",
    "        neighbors = self.get_neighbors(user_ids)\n",
    "        G = nx.Graph()\n",
    "        \n",
    "        for node, neigh in enumerate(neighbors):\n",
    "            target = user_ids[node] if user_ids else node\n",
    "            G.add_node(target)\n",
    "            for sibling in neigh:\n",
    "                G.add_edge(target, sibling)\n",
    "        \n",
    "        return G\n",
    "\n",
    "    def fit(self, X, y, limit_users=None, prefitted=False):\n",
    "        if not prefitted:\n",
    "            ar = self.parallel_prefit(X, y, limit_users=limit_users)\n",
    "            print_progress_bar(limit_users or self.nb_users, ar)\n",
    "            self.wscore = np.vstack(list(ar))\n",
    "        \n",
    "        self.ratings = defaultdict(dict)\n",
    "        self.sum_ratings = Counter()\n",
    "        self.nb_ratings = Counter()\n",
    "        for (user_id, work_id), rating in zip(X, y):\n",
    "            self.ratings[user_id][work_id] = rating\n",
    "            self.nb_ratings[work_id] += 1\n",
    "            self.sum_ratings[work_id] += rating\n",
    "        for work_id in self.nb_ratings:\n",
    "            self.mean_score[work_id] = (self.sum_ratings[work_id] /\n",
    "                                        self.nb_ratings[work_id])\n",
    "    \n",
    "    def predict(self, X):\n",
    "        if self.pred_method == 'projection':\n",
    "            return self.projection_predict(X)\n",
    "        elif self.pred_method == 'weighted':\n",
    "            return self.weighted_predict(X)\n",
    "        else:\n",
    "            raise ValueError('Unknown prediction method')\n",
    "\n",
    "    def weighted_predict(self, X):\n",
    "        # Compute only relevant neighbors\n",
    "        self.get_neighbors(list(set(X[:, 0])))\n",
    "        y = []\n",
    "        for my_user_id, work_id in X:\n",
    "            weight = 0\n",
    "            predicted_rating = 0\n",
    "            for user_id in self.closest[my_user_id]:\n",
    "                their_sim_score = self.closest[my_user_id][user_id]\n",
    "                their_rating = self.ratings[user_id].get(work_id)\n",
    "                if their_rating is None:\n",
    "                    continue  # Skip\n",
    "                predicted_rating += their_rating * their_sim_score\n",
    "                weight += their_sim_score\n",
    "            if weight > 0:\n",
    "                predicted_rating /= weight\n",
    "            y.append(predicted_rating)\n",
    "        return np.array(y)\n",
    "    \n",
    "    def projection_predict(self, X):\n",
    "        # Compute only relevant neighbors\n",
    "        self.get_neighbors(list(set(X[:, 0])))\n",
    "        user_ids = np.unique(X[:,0].reshape(-1))\n",
    "        y = [0.] * X.shape[0]\n",
    "        for my_user_id in user_ids:\n",
    "            work_ids = X[X[:,0] == my_user_id][:,1]\n",
    "            if my_user_id in self.closest:\n",
    "                neighbor_ids = list(self.closest[my_user_id].keys())\n",
    "                A = self.user_distributions[neighbor_ids].T\n",
    "                min_distribution = ot.bregman.barycenter(A, self.cost, self.ent_reg)\n",
    "                for work_id, pred in enumerate(do_prediction_from_distribution(min_distribution)):\n",
    "                    try:\n",
    "                        y_ids, = np.where(((X[:,0] == my_user_id) & (X[:,1] == work_ids[work_id])))\n",
    "                        y_id = y_ids[0]\n",
    "                        # The index should be UNIQUE\n",
    "                        assert len(y_ids) == 1\n",
    "                        y[y_id] = pred\n",
    "                    except Exception as e:\n",
    "                        print('[!!] error: {}, ignored…'.format(e))\n",
    "        \n",
    "        return y\n",
    "\n",
    "    def __str__(self):\n",
    "        return '[WKNN] NB_NEIGHBORS = %d, ENTROPIC_REGULARIZATION = %f' % (self.nb_neighbors, self.ent_reg)"
   ]
  },
  {
   "cell_type": "code",
   "execution_count": null,
   "metadata": {},
   "outputs": [
    {
     "data": {
      "application/vnd.jupyter.widget-view+json": {
       "model_id": "acc0f5448e6d48e5b5cd5f320cb5b984",
       "version_major": 2,
       "version_minor": 0
      },
      "text/plain": [
       "HBox(children=(IntProgress(value=0, max=2289), HTML(value='')))"
      ]
     },
     "metadata": {},
     "output_type": "display_data"
    }
   ],
   "source": [
    "wknn = WKNN(M_normalized, dview, nb_users, nb_works, 'projection')\n",
    "wknn.fit(X, y)"
   ]
  },
  {
   "cell_type": "code",
   "execution_count": null,
   "metadata": {},
   "outputs": [],
   "source": [
    "G = wknn.nx_graph_neighbors(range(1, 5))\n",
    "pos = nx.spring_layout(G)\n",
    "nx.draw(G, pos, with_labels=True, node_size=1000, node_color='red')"
   ]
  },
  {
   "cell_type": "code",
   "execution_count": null,
   "metadata": {},
   "outputs": [],
   "source": [
    "from sklearn.model_selection import KFold\n",
    "from sklearn.metrics import mean_squared_error\n",
    "\n",
    "skf = KFold(n_splits=5)\n",
    "\n",
    "def subset(u, user_limit):\n",
    "    return u[:, 0] < user_limit\n",
    "\n",
    "rmses = []\n",
    "for index, (train_index, test_index) in enumerate(skf.split(X)):\n",
    "    knn = KNN(nb_users, nb_works)\n",
    "    wknn = WKNN(M_normalized, dview, nb_users, nb_works, 'projection')\n",
    "\n",
    "    Xt, yt = X[train_index], y[train_index]\n",
    "    Xr, yr = X[test_index], y[test_index]\n",
    "    start = time.time()\n",
    "    print('[+] Training started...')\n",
    "    knn.fit(Xt, yt)\n",
    "    print('[+] KNN trained in {:f} secs'.format(time.time() - start))\n",
    "    start = time.time()\n",
    "    wknn.fit(Xt, yt)\n",
    "    print('[+] WKNN trained in {:f} secs'.format(time.time() - start))\n",
    "    \n",
    "    yknn = knn.predict(Xr)\n",
    "    ywknn = wknn.predict(Xr)\n",
    "    \n",
    "    print('{}-KNN:'.format(index), yknn)\n",
    "    print('{}-WKNN:'.format(index), ywknn)\n",
    "    \n",
    "    knn_rmse = mean_squared_error(yr, yknn)\n",
    "    wknn_rmse = mean_squared_error(yr, ywknn)\n",
    "    rmses.append((knn_rmse, wknn_rmse))\n",
    "    \n",
    "    print('RMSE {}-KNN: {:03f}'.format(index, knn_rmse))\n",
    "    print('RMSE {}-WKNN: {:03f}'.format(index, wknn_rmse))"
   ]
  },
  {
   "cell_type": "code",
   "execution_count": 842,
   "metadata": {},
   "outputs": [
    {
     "name": "stdout",
     "output_type": "stream",
     "text": [
      "0.22225080000000003 0.5645626\n"
     ]
    }
   ],
   "source": [
    "knn = [0.276890, 0.159473, 0.280373, 0.191640, 0.202878]\n",
    "wknn = [0.513377, 0.674419, 0.62500, 0.437649, 0.572368]\n",
    "\n",
    "print(sum(knn)/len(knn), sum(wknn)/len(wknn))"
   ]
  }
 ],
 "metadata": {
  "kernelspec": {
   "display_name": "Python 3",
   "language": "python",
   "name": "python3"
  }
 },
 "nbformat": 4,
 "nbformat_minor": 2
}
